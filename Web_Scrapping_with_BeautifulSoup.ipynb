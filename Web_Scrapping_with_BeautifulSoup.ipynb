{
  "nbformat": 4,
  "nbformat_minor": 0,
  "metadata": {
    "colab": {
      "provenance": []
    },
    "kernelspec": {
      "name": "python3",
      "display_name": "Python 3"
    },
    "language_info": {
      "name": "python"
    }
  },
  "cells": [
    {
      "cell_type": "code",
      "execution_count": 5,
      "metadata": {
        "id": "ib3uqUBkTXLp"
      },
      "outputs": [],
      "source": [
        "import urllib.request\n",
        "from bs4 import BeautifulSoup as bs\n",
        "import re\n",
        "import pandas as pd"
      ]
    },
    {
      "cell_type": "code",
      "source": [
        "url = urllib.request.urlopen(\"https://docs.python.org/3/library/random.html\")\n",
        "soup = bs(url)\n",
        "\n",
        "names = soup.body.findAll('dt')\n",
        "function_names = re.findall('id=\"random.\\w+', str(names))\n",
        "#for a clean look we should delete the ('id=') part at the beginning of each data\n",
        "function_names = [item[4:] for item in function_names]  \n",
        "\n",
        "#find all function discription\n",
        "discription = soup.body.findAll('dd')\n",
        "\n",
        "function_usage = []\n",
        "\n",
        "for item in discription:\n",
        "  item = item.text\n",
        "  item = item.replace('\\n', ' ')\n",
        "  function_usage.append(item)\n",
        "\n",
        "\n",
        "\n",
        "print(function_names)\n",
        "print(function_usage)\n",
        "print(len(function_names))\n",
        "print(len(function_usage))"
      ],
      "metadata": {
        "colab": {
          "base_uri": "https://localhost:8080/"
        },
        "id": "i3R7wG66VU_X",
        "outputId": "b6c5d3b7-8db0-40f8-c224-f9c2cc547610"
      },
      "execution_count": 25,
      "outputs": [
        {
          "output_type": "stream",
          "name": "stdout",
          "text": [
            "['random.seed', 'random.getstate', 'random.setstate', 'random.randbytes', 'random.randrange', 'random.randint', 'random.getrandbits', 'random.choice', 'random.choices', 'random.shuffle', 'random.sample', 'random.random', 'random.uniform', 'random.triangular', 'random.betavariate', 'random.expovariate', 'random.gammavariate', 'random.gauss', 'random.lognormvariate', 'random.normalvariate', 'random.vonmisesvariate', 'random.paretovariate', 'random.weibullvariate', 'random.Random', 'random.SystemRandom']\n",
            "['Initialize the random number generator. If a is omitted or None, the current system time is used.  If randomness sources are provided by the operating system, they are used instead of the system time (see the os.urandom() function for details on availability). If a is an int, it is used directly. With version 2 (the default), a str, bytes, or bytearray object gets converted to an int and all of its bits are used. With version 1 (provided for reproducing random sequences from older versions of Python), the algorithm for str and bytes generates a narrower range of seeds.  Changed in version 3.2: Moved to the version 2 scheme which uses all of the bits in a string seed.   Changed in version 3.11: The seed must be one of the following types: NoneType, int, float, str, bytes, or bytearray.  ', 'Return an object capturing the current internal state of the generator.  This object can be passed to setstate() to restore the state. ', 'state should have been obtained from a previous call to getstate(), and setstate() restores the internal state of the generator to what it was at the time getstate() was called. ', 'Generate n random bytes. This method should not be used for generating security tokens. Use secrets.token_bytes() instead.  New in version 3.9.  ', \"Return a randomly selected element from range(start, stop, step).  This is equivalent to choice(range(start, stop, step)), but doesn’t actually build a range object. The positional argument pattern matches that of range().  Keyword arguments should not be used because the function may use them in unexpected ways.  Changed in version 3.2: randrange() is more sophisticated about producing equally distributed values.  Formerly it used a style like int(random()*n) which could produce slightly uneven distributions.   Deprecated since version 3.10: The automatic conversion of non-integer types to equivalent integers is deprecated.  Currently randrange(10.0) is losslessly converted to randrange(10).  In the future, this will raise a TypeError.   Deprecated since version 3.10: The exception raised for non-integral values such as randrange(10.5) or randrange('10') will be changed from ValueError to TypeError.  \", 'Return a random integer N such that a <= N <= b.  Alias for randrange(a, b+1). ', 'Returns a non-negative Python integer with k random bits. This method is supplied with the MersenneTwister generator and some other generators may also provide it as an optional part of the API. When available, getrandbits() enables randrange() to handle arbitrarily large ranges.  Changed in version 3.9: This method now accepts zero for k.  ', 'Return a random element from the non-empty sequence seq. If seq is empty, raises IndexError. ', 'Return a k sized list of elements chosen from the population with replacement. If the population is empty, raises IndexError. If a weights sequence is specified, selections are made according to the relative weights.  Alternatively, if a cum_weights sequence is given, the selections are made according to the cumulative weights (perhaps computed using itertools.accumulate()).  For example, the relative weights [10, 5, 30, 5] are equivalent to the cumulative weights [10, 15, 45, 50].  Internally, the relative weights are converted to cumulative weights before making selections, so supplying the cumulative weights saves work. If neither weights nor cum_weights are specified, selections are made with equal probability.  If a weights sequence is supplied, it must be the same length as the population sequence.  It is a TypeError to specify both weights and cum_weights. The weights or cum_weights can use any numeric type that interoperates with the float values returned by random() (that includes integers, floats, and fractions but excludes decimals).  Weights are assumed to be non-negative and finite.  A ValueError is raised if all weights are zero. For a given seed, the choices() function with equal weighting typically produces a different sequence than repeated calls to choice().  The algorithm used by choices() uses floating point arithmetic for internal consistency and speed.  The algorithm used by choice() defaults to integer arithmetic with repeated selections to avoid small biases from round-off error.  New in version 3.6.   Changed in version 3.9: Raises a ValueError if all weights are zero.  ', 'Shuffle the sequence x in place. To shuffle an immutable sequence and return a new shuffled list, use sample(x, k=len(x)) instead. Note that even for small len(x), the total number of permutations of x can quickly grow larger than the period of most random number generators. This implies that most permutations of a long sequence can never be generated.  For example, a sequence of length 2080 is the largest that can fit within the period of the Mersenne Twister random number generator.  Deprecated since version 3.9, removed in version 3.11: The optional parameter random.  ', \"Return a k length list of unique elements chosen from the population sequence.  Used for random sampling without replacement. Returns a new list containing elements from the population while leaving the original population unchanged.  The resulting list is in selection order so that all sub-slices will also be valid random samples.  This allows raffle winners (the sample) to be partitioned into grand prize and second place winners (the subslices). Members of the population need not be hashable or unique.  If the population contains repeats, then each occurrence is a possible selection in the sample. Repeated elements can be specified one at a time or with the optional keyword-only counts parameter.  For example, sample(['red', 'blue'], counts=[4, 2], k=5) is equivalent to sample(['red', 'red', 'red', 'red', 'blue', 'blue'], k=5). To choose a sample from a range of integers, use a range() object as an argument.  This is especially fast and space efficient for sampling from a large population:  sample(range(10000000), k=60). If the sample size is larger than the population size, a ValueError is raised.  Changed in version 3.9: Added the counts parameter.   Changed in version 3.11: The population must be a sequence.  Automatic conversion of sets to lists is no longer supported.  \", 'Return the next random floating point number in the range 0.0 <= X < 1.0 ', 'Return a random floating point number N such that a <= N <= b for a <= b and b <= N <= a for b < a. The end-point value b may or may not be included in the range depending on floating-point rounding in the equation a + (b-a) * random(). ', 'Return a random floating point number N such that low <= N <= high and with the specified mode between those bounds.  The low and high bounds default to zero and one.  The mode argument defaults to the midpoint between the bounds, giving a symmetric distribution. ', 'Beta distribution.  Conditions on the parameters are alpha > 0 and beta > 0. Returned values range between 0 and 1. ', 'Exponential distribution.  lambd is 1.0 divided by the desired mean.  It should be nonzero.  (The parameter would be called “lambda”, but that is a reserved word in Python.)  Returned values range from 0 to positive infinity if lambd is positive, and from negative infinity to 0 if lambd is negative. ', 'Gamma distribution.  (Not the gamma function!)  Conditions on the parameters are alpha > 0 and beta > 0. The probability distribution function is:           x ** (alpha - 1) * math.exp(-x / beta) pdf(x) =  --------------------------------------             math.gamma(alpha) * beta ** alpha   ', 'Normal distribution, also called the Gaussian distribution.  mu is the mean, and sigma is the standard deviation.  This is slightly faster than the normalvariate() function defined below. Multithreading note:  When two threads call this function simultaneously, it is possible that they will receive the same return value.  This can be avoided in three ways. 1) Have each thread use a different instance of the random number generator. 2) Put locks around all calls. 3) Use the slower, but thread-safe normalvariate() function instead.  Changed in version 3.11: mu and sigma now have default arguments.  ', 'Log normal distribution.  If you take the natural logarithm of this distribution, you’ll get a normal distribution with mean mu and standard deviation sigma.  mu can have any value, and sigma must be greater than zero. ', 'Normal distribution.  mu is the mean, and sigma is the standard deviation.  Changed in version 3.11: mu and sigma now have default arguments.  ', 'mu is the mean angle, expressed in radians between 0 and 2*pi, and kappa is the concentration parameter, which must be greater than or equal to zero.  If kappa is equal to zero, this distribution reduces to a uniform random angle over the range 0 to 2*pi. ', 'Pareto distribution.  alpha is the shape parameter. ', 'Weibull distribution.  alpha is the scale parameter and beta is the shape parameter. ', 'Class that implements the default pseudo-random number generator used by the random module.  Deprecated since version 3.9: In the future, the seed must be one of the following types: NoneType, int, float, str, bytes, or bytearray.  ', 'Class that uses the os.urandom() function for generating random numbers from sources provided by the operating system. Not available on all systems. Does not rely on software state, and sequences are not reproducible. Accordingly, the seed() method has no effect and is ignored. The getstate() and setstate() methods raise NotImplementedError if called. ']\n",
            "25\n",
            "25\n"
          ]
        }
      ]
    },
    {
      "cell_type": "code",
      "source": [
        "#create dataframe\n",
        "data = pd.DataFrame({'funciton name:': function_names, 'function usage': function_usage})\n",
        "data.head()"
      ],
      "metadata": {
        "colab": {
          "base_uri": "https://localhost:8080/",
          "height": 206
        },
        "id": "I2uJcn_FWOQz",
        "outputId": "3c78cc38-e521-4e47-948e-3273ed7ed875"
      },
      "execution_count": 46,
      "outputs": [
        {
          "output_type": "execute_result",
          "data": {
            "text/plain": [
              "     funciton name:                                     function usage\n",
              "0       random.seed  Initialize the random number generator. If a i...\n",
              "1   random.getstate  Return an object capturing the current interna...\n",
              "2   random.setstate  state should have been obtained from a previou...\n",
              "3  random.randbytes  Generate n random bytes. This method should no...\n",
              "4  random.randrange  Return a randomly selected element from range(..."
            ],
            "text/html": [
              "\n",
              "  <div id=\"df-5382acda-7b29-47b4-af4c-02dc96a027f2\">\n",
              "    <div class=\"colab-df-container\">\n",
              "      <div>\n",
              "<style scoped>\n",
              "    .dataframe tbody tr th:only-of-type {\n",
              "        vertical-align: middle;\n",
              "    }\n",
              "\n",
              "    .dataframe tbody tr th {\n",
              "        vertical-align: top;\n",
              "    }\n",
              "\n",
              "    .dataframe thead th {\n",
              "        text-align: right;\n",
              "    }\n",
              "</style>\n",
              "<table border=\"1\" class=\"dataframe\">\n",
              "  <thead>\n",
              "    <tr style=\"text-align: right;\">\n",
              "      <th></th>\n",
              "      <th>funciton name:</th>\n",
              "      <th>function usage</th>\n",
              "    </tr>\n",
              "  </thead>\n",
              "  <tbody>\n",
              "    <tr>\n",
              "      <th>0</th>\n",
              "      <td>random.seed</td>\n",
              "      <td>Initialize the random number generator. If a i...</td>\n",
              "    </tr>\n",
              "    <tr>\n",
              "      <th>1</th>\n",
              "      <td>random.getstate</td>\n",
              "      <td>Return an object capturing the current interna...</td>\n",
              "    </tr>\n",
              "    <tr>\n",
              "      <th>2</th>\n",
              "      <td>random.setstate</td>\n",
              "      <td>state should have been obtained from a previou...</td>\n",
              "    </tr>\n",
              "    <tr>\n",
              "      <th>3</th>\n",
              "      <td>random.randbytes</td>\n",
              "      <td>Generate n random bytes. This method should no...</td>\n",
              "    </tr>\n",
              "    <tr>\n",
              "      <th>4</th>\n",
              "      <td>random.randrange</td>\n",
              "      <td>Return a randomly selected element from range(...</td>\n",
              "    </tr>\n",
              "  </tbody>\n",
              "</table>\n",
              "</div>\n",
              "      <button class=\"colab-df-convert\" onclick=\"convertToInteractive('df-5382acda-7b29-47b4-af4c-02dc96a027f2')\"\n",
              "              title=\"Convert this dataframe to an interactive table.\"\n",
              "              style=\"display:none;\">\n",
              "        \n",
              "  <svg xmlns=\"http://www.w3.org/2000/svg\" height=\"24px\"viewBox=\"0 0 24 24\"\n",
              "       width=\"24px\">\n",
              "    <path d=\"M0 0h24v24H0V0z\" fill=\"none\"/>\n",
              "    <path d=\"M18.56 5.44l.94 2.06.94-2.06 2.06-.94-2.06-.94-.94-2.06-.94 2.06-2.06.94zm-11 1L8.5 8.5l.94-2.06 2.06-.94-2.06-.94L8.5 2.5l-.94 2.06-2.06.94zm10 10l.94 2.06.94-2.06 2.06-.94-2.06-.94-.94-2.06-.94 2.06-2.06.94z\"/><path d=\"M17.41 7.96l-1.37-1.37c-.4-.4-.92-.59-1.43-.59-.52 0-1.04.2-1.43.59L10.3 9.45l-7.72 7.72c-.78.78-.78 2.05 0 2.83L4 21.41c.39.39.9.59 1.41.59.51 0 1.02-.2 1.41-.59l7.78-7.78 2.81-2.81c.8-.78.8-2.07 0-2.86zM5.41 20L4 18.59l7.72-7.72 1.47 1.35L5.41 20z\"/>\n",
              "  </svg>\n",
              "      </button>\n",
              "      \n",
              "  <style>\n",
              "    .colab-df-container {\n",
              "      display:flex;\n",
              "      flex-wrap:wrap;\n",
              "      gap: 12px;\n",
              "    }\n",
              "\n",
              "    .colab-df-convert {\n",
              "      background-color: #E8F0FE;\n",
              "      border: none;\n",
              "      border-radius: 50%;\n",
              "      cursor: pointer;\n",
              "      display: none;\n",
              "      fill: #1967D2;\n",
              "      height: 32px;\n",
              "      padding: 0 0 0 0;\n",
              "      width: 32px;\n",
              "    }\n",
              "\n",
              "    .colab-df-convert:hover {\n",
              "      background-color: #E2EBFA;\n",
              "      box-shadow: 0px 1px 2px rgba(60, 64, 67, 0.3), 0px 1px 3px 1px rgba(60, 64, 67, 0.15);\n",
              "      fill: #174EA6;\n",
              "    }\n",
              "\n",
              "    [theme=dark] .colab-df-convert {\n",
              "      background-color: #3B4455;\n",
              "      fill: #D2E3FC;\n",
              "    }\n",
              "\n",
              "    [theme=dark] .colab-df-convert:hover {\n",
              "      background-color: #434B5C;\n",
              "      box-shadow: 0px 1px 3px 1px rgba(0, 0, 0, 0.15);\n",
              "      filter: drop-shadow(0px 1px 2px rgba(0, 0, 0, 0.3));\n",
              "      fill: #FFFFFF;\n",
              "    }\n",
              "  </style>\n",
              "\n",
              "      <script>\n",
              "        const buttonEl =\n",
              "          document.querySelector('#df-5382acda-7b29-47b4-af4c-02dc96a027f2 button.colab-df-convert');\n",
              "        buttonEl.style.display =\n",
              "          google.colab.kernel.accessAllowed ? 'block' : 'none';\n",
              "\n",
              "        async function convertToInteractive(key) {\n",
              "          const element = document.querySelector('#df-5382acda-7b29-47b4-af4c-02dc96a027f2');\n",
              "          const dataTable =\n",
              "            await google.colab.kernel.invokeFunction('convertToInteractive',\n",
              "                                                     [key], {});\n",
              "          if (!dataTable) return;\n",
              "\n",
              "          const docLinkHtml = 'Like what you see? Visit the ' +\n",
              "            '<a target=\"_blank\" href=https://colab.research.google.com/notebooks/data_table.ipynb>data table notebook</a>'\n",
              "            + ' to learn more about interactive tables.';\n",
              "          element.innerHTML = '';\n",
              "          dataTable['output_type'] = 'display_data';\n",
              "          await google.colab.output.renderOutput(dataTable, element);\n",
              "          const docLink = document.createElement('div');\n",
              "          docLink.innerHTML = docLinkHtml;\n",
              "          element.appendChild(docLink);\n",
              "        }\n",
              "      </script>\n",
              "    </div>\n",
              "  </div>\n",
              "  "
            ]
          },
          "metadata": {},
          "execution_count": 46
        }
      ]
    },
    {
      "cell_type": "code",
      "source": [
        "data.to_csv('my_web_scrapping')"
      ],
      "metadata": {
        "id": "q4TIlvTYhglF"
      },
      "execution_count": 47,
      "outputs": []
    },
    {
      "cell_type": "code",
      "source": [
        "from google.colab import drive\n",
        "drive.mount('/content/drive')"
      ],
      "metadata": {
        "colab": {
          "base_uri": "https://localhost:8080/"
        },
        "id": "qy771tnikhm2",
        "outputId": "38e2c9ed-d5d5-4814-9530-5d1c7741f778"
      },
      "execution_count": 49,
      "outputs": [
        {
          "output_type": "stream",
          "name": "stdout",
          "text": [
            "Mounted at /content/drive\n"
          ]
        }
      ]
    },
    {
      "cell_type": "code",
      "source": [
        "data.to_csv(\"/content/drive/MyDrive/Web Scrapping/data.csv\")"
      ],
      "metadata": {
        "id": "vcjbozZclqOD"
      },
      "execution_count": 50,
      "outputs": []
    },
    {
      "cell_type": "code",
      "source": [],
      "metadata": {
        "id": "3_djgoV7mGeq"
      },
      "execution_count": null,
      "outputs": []
    }
  ]
}